import math

def f(x):
    return 0.2*x**3 + 1.4*x**2 - 8*x - 23

def metode_numerik_dasar(x_awal, x_akhir, dx, batas_error):
    x = x_awal
    iterasi = 0
    print(f"\nMetode Numerik Dasar:")
    print(f"{'Iterasi':<10}{'x':<15}{'f(x)':<15}")
    while x <= x_akhir:
        y = f(x)
        print(f"{iterasi:<10}{x:<15.6f}{y:<15.6f}")
        if abs(y) < batas_error:
            return x, iterasi
        x += dx
        iterasi += 1
    return None, iterasi

def metode_false_position(x_l, x_u, batas_error):
    iterasi = 0
    print(f"\nMetode False Position:")
    print(f"{'Iterasi':<10}{'x_l':<15}{'x_u':<15}{'x_r':<15}{'f(x_r)':<15}")
    while True:
        x_r = x_u - (f(x_u) * (x_u - x_l)) / (f(x_u) - f(x_l))
        y_r = f(x_r)
        print(f"{iterasi:<10}{x_l:<15.6f}{x_u:<15.6f}{x_r:<15.6f}{y_r:<15.6f}")
        if abs(y_r) < batas_error:
            return x_r, iterasi
        elif f(x_l) * y_r < 0:
            x_u = x_r
        else:
            x_l = x_r
        iterasi += 1

def cari_akar(x_awal, x_akhir, dx, batas_error):
    interval = [
        (x_awal, -5),
        (-5, 0),
        (0, x_akhir)
    ]
    
    akar_numerik = []
    akar_false_position = []
    
    for i, (mulai, akhir) in enumerate(interval, 1):
        print(f"\nMencari akar ke-{i} dalam interval [{mulai}, {akhir}]")
        
        akar_num, iter_num = metode_numerik_dasar(mulai, akhir, dx, batas_error)
        if akar_num is not None:
            akar_numerik.append((akar_num, iter_num))
        
        akar_false, iter_false = metode_false_position(mulai, akhir, batas_error)
        akar_false_position.append((akar_false, iter_false))
    
    return akar_numerik, akar_false_position

# Parameter sesuai tugas
x_awal = -10
x_akhir = 10
dx = 0.00001
batas_error = 0.0001

akar_numerik, akar_false = cari_akar(x_awal, x_akhir, dx, batas_error)

print("\nHasil Akhir:")
print("Metode Numerik Dasar:")
for i, (akar, iterasi) in enumerate(akar_numerik, 1):
    print(f"Akar {i}: x = {akar:.6f}, f(x) = {f(akar):.6f}, Iterasi = {iterasi}")

print("\nMetode False Position:")
for i, (akar, iterasi) in enumerate(akar_false, 1):
    print(f"Akar {i}: x = {akar:.6f}, f(x) = {f(akar):.6f}, Iterasi = {iterasi}")

print("\nPerbandingan:")
for i in range(min(len(akar_numerik), len(akar_false))):
    beda_iterasi = akar_numerik[i][1] - akar_false[i][1]
    print(f"Akar {i+1}: Metode Numerik Dasar memerlukan {beda_iterasi} iterasi lebih banyak dari Metode False Position")
